{
 "cells": [
  {
   "cell_type": "code",
   "execution_count": 34,
   "id": "30f00d26",
   "metadata": {},
   "outputs": [
    {
     "name": "stdout",
     "output_type": "stream",
     "text": [
      "Write your first name: Ammad\n",
      "Write your last name: zaidi\n",
      "After addition:  Ammad zaidi\n"
     ]
    }
   ],
   "source": [
    " #                Assignment # 1\n",
    "    \n",
    " #                Question # 1\n",
    "\n",
    "\"\"\"print(\"Twinkle, twinkle little star,\")\n",
    "print(\"         How I wonder what you are!\")\n",
    "print(\"                 Up above the world so high,\")\n",
    "print(\"                 Like a diamond in the sky.\")\n",
    "print(\"Twinkle, twinkle little star,\")\n",
    "print(\"         How I wonder what you are\")\"\"\"\n",
    "\n",
    " #                Question # 2\n",
    "    \n",
    "\"\"\"print(\"Python version\")\n",
    "print (sys.version)\"\"\"\n",
    "\n",
    "#                Question # 3\n",
    "\n",
    "\"\"\"import datetime\n",
    "now = datetime.datetime.now()\n",
    "print (\"Current date and time : \")\n",
    "print (now.strftime(\"%Y-%m-%d %H:%M:%S\"))\"\"\"\n",
    "\n",
    "#                Question # 4\n",
    "\n",
    "\"\"\"from math import pi\n",
    "r = float(input (\"Input the radius of the circle : \"))\n",
    "print (\"The area of the circle with radius \" + str(r) + \" is: \" + str(pi*r**2))\"\"\"\n",
    "\n",
    "#                Question # 5\n",
    "\n",
    "\"\"\"xname = input(\"Write your first name: \")\n",
    "yname = input(\"Write your last name: \")\n",
    "print (  xname + \" \" + yname)\"\"\"\n",
    "\n",
    "#                Question # 6\n",
    "\n",
    "\"\"\"xname = input(\"Write your first name: \")\n",
    "yname = input(\"Write your last name: \")\n",
    "print(\"After addition: \",xname+\" \"+yname)\"\"\"\n",
    "\n"
   ]
  }
 ],
 "metadata": {
  "kernelspec": {
   "display_name": "Python 3 (ipykernel)",
   "language": "python",
   "name": "python3"
  },
  "language_info": {
   "codemirror_mode": {
    "name": "ipython",
    "version": 3
   },
   "file_extension": ".py",
   "mimetype": "text/x-python",
   "name": "python",
   "nbconvert_exporter": "python",
   "pygments_lexer": "ipython3",
   "version": "3.9.7"
  }
 },
 "nbformat": 4,
 "nbformat_minor": 5
}
